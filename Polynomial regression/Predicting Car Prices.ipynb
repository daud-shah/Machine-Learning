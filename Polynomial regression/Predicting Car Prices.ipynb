{
 "cells": [
  {
   "cell_type": "markdown",
   "id": "df4cd41d-464e-47cb-afaf-2cc0d604ddac",
   "metadata": {},
   "source": [
    "# Real-World Project: Predicting Car Prices Based on Features\r\n",
    "\r\n",
    "## Problem Statement\r\n",
    "We aim to predict the price of a car based on its age. Car prices often decrease non-linearly with age, making this a good problem for polynomial regression.\r\n",
    "\r\n",
    "---\r\n",
    "\r\n",
    "## Steps for the Project\r\n",
    "\r\n",
    "### 1. Dataset\r\n",
    "- **Source**: Use a real-world dataset if| 15,000       |\r\n",
    "\r\n",
    "### 2. Understand the Data\r\n",
    "- Plot the data to visualize the relationship between car age and price.\r\n",
    "- Check for missing values or other data quality issues.\r\n",
    "\r\n",
    "### 3. Model Selection\r\n",
    "- Apply **polynomial regression** with varying degrees to capture the nonlinear relationship.\r\n",
    "- Split the data into **training** and **testing** sets.\r\n",
    "\r\n",
    "### 4. Evaluation\r\n",
    "- Use metrics such as:\r\n",
    "  - **Mean Squared Error (MSE)**\r\n",
    "  - **R² Score**\r\n",
    "- Compare results with simple linear regression to observe improvements.\r\n",
    "\r\n",
    "### 5. Visualization\r\n",
    "- Plot the actual data points.\r\n",
    "- Overlay the polynomial regression line to see the fit.\r\n",
    "- Experiment with different degrees of the polynomial to understand:\r\n",
    "  - Underfitting (low degree).\r\n",
    "  - Overfitting (high degree).\r\n",
    "\r\n",
    "---\r\n",
    "\r\n",
    "## Tasks for You\r\n",
    "1. **Find or Create a Dataset**: Start with data on car age and price.\r\n",
    "2. **Preprocessing**: Handle missing values, if any, and scale the data if necessary.\r\n",
    "3. **Experiment with Polynomial Degrees**: Test various degrees to find the best fit.\r\n",
    "4. **Document Observations**: Note down challenges, findings, and results.\r\n",
    "\r\n",
    "---\r\n",
    "\r\n",
    "## Questions to Reflect On\r\n",
    "1. What dataset are you using? (Real or synthetic?)\r\n",
    "2. What degree of polynomial do you think works best for this problem?\r\n",
    "3. How will you evaluate and prevent overfitting?\r\n",
    "\r\n",
    "---\r\n",
    "\r\n",
    "## Next Steps\r\n",
    "- Implement the steps in Python.\r\n",
    "- Share your progress or challenges.\r\n",
    "- Get feedback and refine the model as needed.\r\n",
    "\r\n",
    "---\r\n",
    "\r\n",
    "**Tip**: Focus on understanding how the degree of the polynomial affects the model’s ability to fit the data. Visualizations will help make this clear.\r\n",
    "\r\n"
   ]
  },
  {
   "cell_type": "code",
   "execution_count": 14,
   "id": "bbdbc18a-1f66-4d1f-a4c7-ca74e9e8298a",
   "metadata": {},
   "outputs": [],
   "source": [
    "import pandas as pd\n",
    "import numpy as np\n",
    "import matplotlib.pyplot as plt\n",
    "from sklearn.linear_model import LinearRegression\n",
    "from sklearn.preprocessing import PolynomialFeatures\n",
    "from sklearn.metrics import mean_squared_error"
   ]
  },
  {
   "cell_type": "code",
   "execution_count": 44,
   "id": "5bb5e170-d6db-4701-b7d6-3965e6e65263",
   "metadata": {},
   "outputs": [],
   "source": [
    "df = pd.read_csv('car_price_prediction.csv')\n"
   ]
  },
  {
   "cell_type": "code",
   "execution_count": 46,
   "id": "30237e6f-4ba8-40ff-990e-3b0e17a80985",
   "metadata": {},
   "outputs": [
    {
     "name": "stdout",
     "output_type": "stream",
     "text": [
      "Index(['ID', 'Price', 'Levy', 'Manufacturer', 'Model', 'Prod. year',\n",
      "       'Category', 'Leather interior', 'Fuel type', 'Engine volume', 'Mileage',\n",
      "       'Cylinders', 'Gear box type', 'Drive wheels', 'Doors', 'Wheel', 'Color',\n",
      "       'Airbags'],\n",
      "      dtype='object')\n"
     ]
    }
   ],
   "source": [
    "print(df.columns)"
   ]
  },
  {
   "cell_type": "code",
   "execution_count": 34,
   "id": "c68db9e9-8809-41c0-90b3-f6be4eef664d",
   "metadata": {},
   "outputs": [],
   "source": [
    "import datetime\n",
    "current_year = datetime.datetime.now().year\n",
    "df['car_age'] = current_year - df['Prod. year']"
   ]
  },
  {
   "cell_type": "code",
   "execution_count": 40,
   "id": "9be8c55d-cc03-4342-87d0-7beb0fc3e6c2",
   "metadata": {},
   "outputs": [
    {
     "data": {
      "text/plain": [
       "Prod. year    0\n",
       "Price         0\n",
       "car_age       0\n",
       "dtype: int64"
      ]
     },
     "execution_count": 40,
     "metadata": {},
     "output_type": "execute_result"
    }
   ],
   "source": [
    "df.isnull().sum()"
   ]
  },
  {
   "cell_type": "code",
   "execution_count": 42,
   "id": "08a11d11-a9aa-44e4-9dad-c6990408bfe9",
   "metadata": {},
   "outputs": [
    {
     "data": {
      "image/png": "[encoded data removed]",
      "text/plain": [
       "<Figure size 800x600 with 1 Axes>"
      ]
     },
     "metadata": {},
     "output_type": "display_data"
    }
   ],
   "source": [
    "# Plotting the scatter plot\n",
    "plt.figure(figsize=(8, 6))  # Set the figure size\n",
    "plt.scatter(df['car_age'], df['Price'], color='blue', alpha=0.5)\n",
    "plt.title('Car Age vs. Price')\n",
    "plt.xlabel('Car Age (Years)')\n",
    "plt.ylabel('Price')\n",
    "plt.grid(True)\n",
    "plt.show()\n"
   ]
  },
  {
   "cell_type": "code",
   "execution_count": null,
   "id": "3d39be35-c627-4b00-8dab-64b574bf83c9",
   "metadata": {},
   "outputs": [],
   "source": []
  }
 ],
 "metadata": {
  "kernelspec": {
   "display_name": "Python 3 (ipykernel)",
   "language": "python",
   "name": "python3"
  },
  "language_info": {
   "codemirror_mode": {
    "name": "ipython",
    "version": 3
   },
   "file_extension": ".py",
   "mimetype": "text/x-python",
   "name": "python",
   "nbconvert_exporter": "python",
   "pygments_lexer": "ipython3",
   "version": "3.12.3"
  }
 },
 "nbformat": 4,
 "nbformat_minor": 5
}
